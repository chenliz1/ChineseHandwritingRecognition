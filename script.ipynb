{
 "cells": [
  {
   "cell_type": "code",
   "execution_count": 1,
   "metadata": {},
   "outputs": [
    {
     "name": "stderr",
     "output_type": "stream",
     "text": [
      "Using TensorFlow backend.\n"
     ]
    }
   ],
   "source": [
    "import numpy as np\n",
    "import matplotlib.pyplot as plt\n",
    "import pickle as pkl\n",
    "import os\n",
    "\n",
    "import keras\n",
    "from keras.models import Model, load_model\n",
    "from keras import backend as K\n",
    "from keras.preprocessing.image import ImageDataGenerator\n",
    "from keras import optimizers\n",
    "from keras.callbacks import ModelCheckpoint\n",
    "\n",
    "from dataloader import trainGenerator, validGenerator\n",
    "from model_9_layer_GSLRE import build_model_GSLRE"
   ]
  },
  {
   "cell_type": "code",
   "execution_count": 2,
   "metadata": {},
   "outputs": [],
   "source": [
    "rootDir='./data/image_data'\n",
    "trainDir = os.path.join(rootDir, 'train')\n",
    "validDir = os.path.join(rootDir, 'test')\n",
    "\n",
    "classSize = 500"
   ]
  },
  {
   "cell_type": "code",
   "execution_count": 3,
   "metadata": {},
   "outputs": [],
   "source": [
    "batchSize = 128\n",
    "val_batchSize = 128\n",
    "width, height = 96, 96"
   ]
  },
  {
   "cell_type": "code",
   "execution_count": 4,
   "metadata": {},
   "outputs": [
    {
     "name": "stdout",
     "output_type": "stream",
     "text": [
      "Found 29894 images belonging to 500 classes.\n"
     ]
    }
   ],
   "source": [
    "vg = validGenerator(validDir, val_batchSize, 96, 96)"
   ]
  },
  {
   "cell_type": "code",
   "execution_count": 5,
   "metadata": {},
   "outputs": [
    {
     "name": "stdout",
     "output_type": "stream",
     "text": [
      "Found 104742 images belonging to 500 classes.\n"
     ]
    }
   ],
   "source": [
    "tg = trainGenerator(trainDir, batchSize, 96, 96)"
   ]
  },
  {
   "cell_type": "code",
   "execution_count": 6,
   "metadata": {},
   "outputs": [],
   "source": [
    "model = build_model_GSLRE(classSize)\n",
    "# model.load_weights('model_weights_best_epoch20.hdf5')"
   ]
  },
  {
   "cell_type": "code",
   "execution_count": 7,
   "metadata": {},
   "outputs": [],
   "source": [
    "checkpointer = keras.callbacks.ModelCheckpoint(filepath='model_origin_weights_best_epoch.hdf5',\n",
    "                                               verbose = 0, save_best_only=True, monitor='val_acc')"
   ]
  },
  {
   "cell_type": "code",
   "execution_count": 8,
   "metadata": {},
   "outputs": [
    {
     "name": "stdout",
     "output_type": "stream",
     "text": [
      "0.1\n",
      "Epoch 1/10\n",
      "819/819 [==============================] - 228s 278ms/step - loss: 1.8425 - acc: 0.5760 - val_loss: 0.9061 - val_acc: 0.7511\n",
      "Epoch 2/10\n",
      "819/819 [==============================] - 225s 275ms/step - loss: 0.4864 - acc: 0.8608 - val_loss: 1.2479 - val_acc: 0.6865\n",
      "Epoch 3/10\n",
      "819/819 [==============================] - 225s 275ms/step - loss: 0.3265 - acc: 0.9053 - val_loss: 0.6050 - val_acc: 0.8341\n",
      "Epoch 4/10\n",
      "819/819 [==============================] - 225s 275ms/step - loss: 0.2568 - acc: 0.9232 - val_loss: 0.3519 - val_acc: 0.9041\n",
      "Epoch 5/10\n",
      "819/819 [==============================] - 225s 275ms/step - loss: 0.2109 - acc: 0.9376 - val_loss: 0.9987 - val_acc: 0.7712\n",
      "Epoch 6/10\n",
      "819/819 [==============================] - 226s 275ms/step - loss: 0.1800 - acc: 0.9453 - val_loss: 0.2982 - val_acc: 0.9209\n",
      "Epoch 7/10\n",
      "819/819 [==============================] - 225s 275ms/step - loss: 0.1533 - acc: 0.9536 - val_loss: 0.2861 - val_acc: 0.9254\n",
      "Epoch 8/10\n",
      "819/819 [==============================] - 226s 276ms/step - loss: 0.1367 - acc: 0.9574 - val_loss: 0.3218 - val_acc: 0.9146\n",
      "Epoch 9/10\n",
      "819/819 [==============================] - 226s 276ms/step - loss: 0.1202 - acc: 0.9626 - val_loss: 0.2753 - val_acc: 0.9296\n",
      "Epoch 10/10\n",
      "819/819 [==============================] - 226s 276ms/step - loss: 0.1105 - acc: 0.9653 - val_loss: 0.2359 - val_acc: 0.9378\n",
      "0.010000000000000002\n",
      "Epoch 1/10\n",
      "819/819 [==============================] - 227s 278ms/step - loss: 0.0621 - acc: 0.9805 - val_loss: 0.1660 - val_acc: 0.9573\n",
      "Epoch 2/10\n",
      "819/819 [==============================] - 226s 276ms/step - loss: 0.0505 - acc: 0.9845 - val_loss: 0.1627 - val_acc: 0.9586\n",
      "Epoch 3/10\n",
      "819/819 [==============================] - 226s 276ms/step - loss: 0.0476 - acc: 0.9857 - val_loss: 0.1617 - val_acc: 0.9586\n",
      "Epoch 4/10\n",
      "819/819 [==============================] - 226s 276ms/step - loss: 0.0441 - acc: 0.9872 - val_loss: 0.1627 - val_acc: 0.9585\n",
      "Epoch 5/10\n",
      "819/819 [==============================] - 226s 276ms/step - loss: 0.0418 - acc: 0.9875 - val_loss: 0.1623 - val_acc: 0.9591\n",
      "Epoch 6/10\n",
      "819/819 [==============================] - 226s 276ms/step - loss: 0.0387 - acc: 0.9886 - val_loss: 0.1620 - val_acc: 0.9588\n",
      "Epoch 7/10\n",
      "819/819 [==============================] - 226s 276ms/step - loss: 0.0365 - acc: 0.9895 - val_loss: 0.1619 - val_acc: 0.9584\n",
      "Epoch 8/10\n",
      "819/819 [==============================] - 226s 276ms/step - loss: 0.0356 - acc: 0.9895 - val_loss: 0.1627 - val_acc: 0.9584\n",
      "Epoch 9/10\n",
      "819/819 [==============================] - 226s 276ms/step - loss: 0.0352 - acc: 0.9896 - val_loss: 0.1616 - val_acc: 0.9591\n",
      "Epoch 10/10\n",
      "819/819 [==============================] - 226s 276ms/step - loss: 0.0337 - acc: 0.9901 - val_loss: 0.1627 - val_acc: 0.9585\n",
      "0.0010000000000000002\n",
      "Epoch 1/10\n",
      "819/819 [==============================] - 228s 278ms/step - loss: 0.0307 - acc: 0.9911 - val_loss: 0.1606 - val_acc: 0.9592\n",
      "Epoch 2/10\n",
      "819/819 [==============================] - 226s 276ms/step - loss: 0.0309 - acc: 0.9909 - val_loss: 0.1604 - val_acc: 0.9595\n",
      "Epoch 3/10\n",
      "819/819 [==============================] - 226s 276ms/step - loss: 0.0298 - acc: 0.9916 - val_loss: 0.1603 - val_acc: 0.9598\n",
      "Epoch 4/10\n",
      "819/819 [==============================] - 226s 276ms/step - loss: 0.0309 - acc: 0.9910 - val_loss: 0.1602 - val_acc: 0.9596\n",
      "Epoch 5/10\n",
      "819/819 [==============================] - 226s 276ms/step - loss: 0.0306 - acc: 0.9914 - val_loss: 0.1601 - val_acc: 0.9595\n",
      "Epoch 6/10\n",
      "819/819 [==============================] - 226s 276ms/step - loss: 0.0300 - acc: 0.9914 - val_loss: 0.1599 - val_acc: 0.9595\n",
      "Epoch 7/10\n",
      "819/819 [==============================] - 226s 276ms/step - loss: 0.0309 - acc: 0.9914 - val_loss: 0.1598 - val_acc: 0.9596\n",
      "Epoch 8/10\n",
      "819/819 [==============================] - 226s 276ms/step - loss: 0.0298 - acc: 0.9915 - val_loss: 0.1600 - val_acc: 0.9596\n",
      "Epoch 9/10\n",
      "819/819 [==============================] - 226s 276ms/step - loss: 0.0297 - acc: 0.9916 - val_loss: 0.1598 - val_acc: 0.9596\n",
      "Epoch 10/10\n",
      "819/819 [==============================] - 227s 277ms/step - loss: 0.0293 - acc: 0.9923 - val_loss: 0.1602 - val_acc: 0.9597\n",
      "0.00010000000000000002\n",
      "Epoch 1/10\n",
      "819/819 [==============================] - 228s 279ms/step - loss: 0.0288 - acc: 0.9918 - val_loss: 0.1600 - val_acc: 0.9597\n",
      "Epoch 2/10\n",
      "819/819 [==============================] - 226s 276ms/step - loss: 0.0292 - acc: 0.9915 - val_loss: 0.1599 - val_acc: 0.9597\n",
      "Epoch 3/10\n",
      "819/819 [==============================] - 227s 277ms/step - loss: 0.0286 - acc: 0.9920 - val_loss: 0.1600 - val_acc: 0.9599\n",
      "Epoch 4/10\n",
      "819/819 [==============================] - 227s 277ms/step - loss: 0.0292 - acc: 0.9919 - val_loss: 0.1599 - val_acc: 0.9598\n",
      "Epoch 5/10\n",
      "819/819 [==============================] - 225s 275ms/step - loss: 0.0299 - acc: 0.9913 - val_loss: 0.1599 - val_acc: 0.9597\n",
      "Epoch 6/10\n",
      "819/819 [==============================] - 225s 275ms/step - loss: 0.0296 - acc: 0.9917 - val_loss: 0.1600 - val_acc: 0.9597\n",
      "Epoch 7/10\n",
      "819/819 [==============================] - 225s 275ms/step - loss: 0.0293 - acc: 0.9919 - val_loss: 0.1599 - val_acc: 0.9595\n",
      "Epoch 8/10\n",
      "819/819 [==============================] - 225s 275ms/step - loss: 0.0293 - acc: 0.9917 - val_loss: 0.1601 - val_acc: 0.9598\n",
      "Epoch 9/10\n",
      "819/819 [==============================] - 225s 275ms/step - loss: 0.0288 - acc: 0.9918 - val_loss: 0.1599 - val_acc: 0.9596\n",
      "Epoch 10/10\n",
      "819/819 [==============================] - 226s 275ms/step - loss: 0.0287 - acc: 0.9920 - val_loss: 0.1599 - val_acc: 0.9596\n",
      "1.0000000000000003e-05\n",
      "Epoch 1/10\n",
      "819/819 [==============================] - 227s 278ms/step - loss: 0.0290 - acc: 0.9919 - val_loss: 0.1599 - val_acc: 0.9599\n",
      "Epoch 2/10\n",
      "819/819 [==============================] - 226s 276ms/step - loss: 0.0289 - acc: 0.9918 - val_loss: 0.1600 - val_acc: 0.9596\n",
      "Epoch 3/10\n",
      "819/819 [==============================] - 226s 275ms/step - loss: 0.0284 - acc: 0.9919 - val_loss: 0.1599 - val_acc: 0.9597\n",
      "Epoch 4/10\n",
      "819/819 [==============================] - 226s 276ms/step - loss: 0.0296 - acc: 0.9918 - val_loss: 0.1599 - val_acc: 0.9594\n",
      "Epoch 5/10\n",
      "819/819 [==============================] - 226s 276ms/step - loss: 0.0286 - acc: 0.9921 - val_loss: 0.1599 - val_acc: 0.9596\n",
      "Epoch 6/10\n",
      "819/819 [==============================] - 226s 276ms/step - loss: 0.0295 - acc: 0.9917 - val_loss: 0.1599 - val_acc: 0.9595\n",
      "Epoch 7/10\n",
      "819/819 [==============================] - 225s 275ms/step - loss: 0.0291 - acc: 0.9918 - val_loss: 0.1599 - val_acc: 0.9599\n",
      "Epoch 8/10\n",
      "819/819 [==============================] - 226s 275ms/step - loss: 0.0295 - acc: 0.9916 - val_loss: 0.1600 - val_acc: 0.9599\n",
      "Epoch 9/10\n",
      "819/819 [==============================] - 226s 276ms/step - loss: 0.0292 - acc: 0.9919 - val_loss: 0.1600 - val_acc: 0.9596\n",
      "Epoch 10/10\n",
      "819/819 [==============================] - 226s 275ms/step - loss: 0.0289 - acc: 0.9916 - val_loss: 0.1599 - val_acc: 0.9598\n"
     ]
    }
   ],
   "source": [
    "for i in range(5):\n",
    "    tens = i + 1\n",
    "    Lrate = 0.1**tens\n",
    "    print(Lrate)\n",
    "    sgd = optimizers.SGD(lr=Lrate, momentum=0.9, nesterov=True)\n",
    "    model.compile(loss='categorical_crossentropy',\n",
    "            optimizer=sgd,\n",
    "            metrics=['accuracy'])\n",
    "    history = model.fit_generator(tg, epochs=10, verbose=1,\n",
    "                        validation_data=vg,\n",
    "                        callbacks=[checkpointer])\n",
    "    with open('history_epoch{}0.pickle'.format(tens), 'wb') as handler:\n",
    "        pkl.dump(history.history, handler, protocol=pkl.HIGHEST_PROTOCOL)\n",
    "# test_loss, test_acc = model.evaluate_generator(vg, verbose=1)"
   ]
  },
  {
   "cell_type": "code",
   "execution_count": null,
   "metadata": {
    "scrolled": true
   },
   "outputs": [],
   "source": []
  },
  {
   "cell_type": "code",
   "execution_count": 8,
   "metadata": {},
   "outputs": [
    {
     "name": "stdout",
     "output_type": "stream",
     "text": [
      "Found 29894 images belonging to 500 classes.\n"
     ]
    }
   ],
   "source": [
    "bvg = validGenerator(validDir, val_batchSize, 96, 96, binary=True, thresh=0.99)"
   ]
  },
  {
   "cell_type": "code",
   "execution_count": 10,
   "metadata": {},
   "outputs": [
    {
     "name": "stdout",
     "output_type": "stream",
     "text": [
      "234/234 [==============================] - 22s 94ms/step\n"
     ]
    },
    {
     "data": {
      "text/plain": [
       "(0.1600443010034071, 0.9598916170508868)"
      ]
     },
     "execution_count": 10,
     "metadata": {},
     "output_type": "execute_result"
    }
   ],
   "source": [
    "test_model = build_model_GSLRE(classSize)\n",
    "test_model.load_weights('model_origin_weights_best_epoch.hdf5')\n",
    "test_model.compile(loss='categorical_crossentropy',\n",
    "        optimizer='SGD',\n",
    "        metrics=['accuracy'])\n",
    "\n",
    "test_loss, test_acc = test_model.evaluate_generator(vg, verbose=1)\n",
    "test_loss, test_acc"
   ]
  },
  {
   "cell_type": "code",
   "execution_count": 16,
   "metadata": {},
   "outputs": [
    {
     "data": {
      "text/plain": [
       "<matplotlib.image.AxesImage at 0x7fb13827aa90>"
      ]
     },
     "execution_count": 16,
     "metadata": {},
     "output_type": "execute_result"
    },
    {
     "data": {
      "image/png": "[encoded data removed]",
      "text/plain": [
       "<Figure size 432x288 with 1 Axes>"
      ]
     },
     "metadata": {
      "needs_background": "light"
     },
     "output_type": "display_data"
    }
   ],
   "source": [
    "from scipy.ndimage import binary_dilation\n",
    "temp = vg[85][0][0]\n",
    "# temp = (temp - temp.min())/ np.ptp(temp)\n",
    "# print(temp.min())\n",
    "# plt.imshow(temp.reshape(96,96), cmap='gray')\n",
    "plt.imshow(temp.reshape(96,96), cmap='gray')"
   ]
  },
  {
   "cell_type": "code",
   "execution_count": 9,
   "metadata": {},
   "outputs": [
    {
     "data": {
      "text/plain": [
       "0.00010000000000000002"
      ]
     },
     "execution_count": 9,
     "metadata": {},
     "output_type": "execute_result"
    }
   ],
   "source": [
    "k=4\n",
    "b = 0.1**k\n",
    "b"
   ]
  },
  {
   "cell_type": "code",
   "execution_count": null,
   "metadata": {},
   "outputs": [],
   "source": []
  }
 ],
 "metadata": {
  "kernelspec": {
   "display_name": "Python 3",
   "language": "python",
   "name": "python3"
  },
  "language_info": {
   "codemirror_mode": {
    "name": "ipython",
    "version": 3
   },
   "file_extension": ".py",
   "mimetype": "text/x-python",
   "name": "python",
   "nbconvert_exporter": "python",
   "pygments_lexer": "ipython3",
   "version": "3.6.6"
  }
 },
 "nbformat": 4,
 "nbformat_minor": 2
}
