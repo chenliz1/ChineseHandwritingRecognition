{
 "cells": [
  {
   "cell_type": "code",
   "execution_count": 1,
   "metadata": {},
   "outputs": [
    {
     "name": "stderr",
     "output_type": "stream",
     "text": [
      "Using TensorFlow backend.\n"
     ]
    }
   ],
   "source": [
    "import numpy as np\n",
    "import matplotlib.pyplot as plt\n",
    "import pickle as pkl\n",
    "import os\n",
    "\n",
    "import keras\n",
    "from keras.models import Model, load_model\n",
    "from keras import backend as K\n",
    "from keras.preprocessing.image import ImageDataGenerator\n",
    "from keras import optimizers\n",
    "from keras.callbacks import ModelCheckpoint\n",
    "\n",
    "from dataloader import trainGenerator, validGenerator\n",
    "from model_9_layer_GSLRE import build_model_GSLRE"
   ]
  },
  {
   "cell_type": "code",
   "execution_count": 31,
   "metadata": {},
   "outputs": [],
   "source": [
    "rootDir='./data/image_data'\n",
    "trainDir = os.path.join(rootDir, 'train')\n",
    "validDir = os.path.join(rootDir, 'test')\n",
    "with open('./data/char_dict', 'rb') as handler:\n",
    "    charDict = pkl.load(handler)\n",
    "\n",
    "classSize = 500"
   ]
  },
  {
   "cell_type": "code",
   "execution_count": 3,
   "metadata": {},
   "outputs": [],
   "source": [
    "batchSize = 128\n",
    "val_batchSize = 128\n",
    "width, height = 96, 96"
   ]
  },
  {
   "cell_type": "code",
   "execution_count": 42,
   "metadata": {},
   "outputs": [
    {
     "name": "stdout",
     "output_type": "stream",
     "text": [
      "Found 29894 images belonging to 500 classes.\n"
     ]
    }
   ],
   "source": [
    "# vg = validGenerator(validDir, val_batchSize, 96, 96)\n",
    "vg = validGenerator(validDir, val_batchSize, 96, 96, binary=True, thresh=0.99)"
   ]
  },
  {
   "cell_type": "code",
   "execution_count": 43,
   "metadata": {},
   "outputs": [
    {
     "name": "stdout",
     "output_type": "stream",
     "text": [
      "Found 29894 images belonging to 500 classes.\n"
     ]
    }
   ],
   "source": [
    "# tg = trainGenerator(trainDir, batchSize, 96, 96)\n",
    "tg = trainGenerator(validDir, val_batchSize, 96, 96, binary=True, thresh=0.99)"
   ]
  },
  {
   "cell_type": "code",
   "execution_count": 16,
   "metadata": {},
   "outputs": [],
   "source": [
    "model = build_model_GSLRE(classSize)\n",
    "model.load_weights('model_origin_weights_best_epoch.hdf5')"
   ]
  },
  {
   "cell_type": "code",
   "execution_count": 17,
   "metadata": {},
   "outputs": [],
   "source": [
    "checkpointer = keras.callbacks.ModelCheckpoint(filepath='model_origin_weights_best_epoch.hdf5',\n",
    "                                               verbose = 0, save_best_only=True, monitor='val_acc')"
   ]
  },
  {
   "cell_type": "code",
   "execution_count": 18,
   "metadata": {},
   "outputs": [
    {
     "name": "stdout",
     "output_type": "stream",
     "text": [
      "0.1\n"
     ]
    },
    {
     "ename": "NameError",
     "evalue": "name 'tg' is not defined",
     "output_type": "error",
     "traceback": [
      "\u001b[0;31m---------------------------------------------------------------------------\u001b[0m",
      "\u001b[0;31mNameError\u001b[0m                                 Traceback (most recent call last)",
      "\u001b[0;32m<ipython-input-18-73ac2a611e52>\u001b[0m in \u001b[0;36m<module>\u001b[0;34m\u001b[0m\n\u001b[1;32m      7\u001b[0m             \u001b[0moptimizer\u001b[0m\u001b[0;34m=\u001b[0m\u001b[0msgd\u001b[0m\u001b[0;34m,\u001b[0m\u001b[0;34m\u001b[0m\u001b[0m\n\u001b[1;32m      8\u001b[0m             metrics=['accuracy'])\n\u001b[0;32m----> 9\u001b[0;31m     history = model.fit_generator(tg, epochs=10, verbose=1,\n\u001b[0m\u001b[1;32m     10\u001b[0m                         \u001b[0mvalidation_data\u001b[0m\u001b[0;34m=\u001b[0m\u001b[0mvg\u001b[0m\u001b[0;34m,\u001b[0m\u001b[0;34m\u001b[0m\u001b[0m\n\u001b[1;32m     11\u001b[0m                         callbacks=[checkpointer])\n",
      "\u001b[0;31mNameError\u001b[0m: name 'tg' is not defined"
     ]
    }
   ],
   "source": [
    "for i in range(5):\n",
    "    tens = i + 1\n",
    "    Lrate = 0.1**tens\n",
    "    print(Lrate)\n",
    "    sgd = optimizers.SGD(lr=Lrate, momentum=0.9, nesterov=True)\n",
    "    model.compile(loss='categorical_crossentropy',\n",
    "            optimizer=sgd,\n",
    "            metrics=['accuracy'])\n",
    "    history = model.fit_generator(tg, epochs=10, verbose=1,\n",
    "                        validation_data=vg,\n",
    "                        callbacks=[checkpointer])\n",
    "    with open('history_epoch{}0.pickle'.format(tens), 'wb') as handler:\n",
    "        pkl.dump(history.history, handler, protocol=pkl.HIGHEST_PROTOCOL)\n",
    "# test_loss, test_acc = model.evaluate_generator(vg, verbose=1)"
   ]
  },
  {
   "cell_type": "code",
   "execution_count": null,
   "metadata": {
    "scrolled": true
   },
   "outputs": [],
   "source": []
  },
  {
   "cell_type": "code",
   "execution_count": 8,
   "metadata": {},
   "outputs": [
    {
     "name": "stdout",
     "output_type": "stream",
     "text": [
      "Found 29894 images belonging to 500 classes.\n"
     ]
    }
   ],
   "source": [
    "bvg = validGenerator(validDir, val_batchSize, 96, 96, binary=True, thresh=0.99)"
   ]
  },
  {
   "cell_type": "code",
   "execution_count": 44,
   "metadata": {},
   "outputs": [],
   "source": [
    "test_model = build_model_GSLRE(500)\n",
    "\n",
    "test_model.load_weights('model_b0.99_weights_best_epoch.hdf5')"
   ]
  },
  {
   "cell_type": "code",
   "execution_count": 57,
   "metadata": {},
   "outputs": [
    {
     "name": "stdout",
     "output_type": "stream",
     "text": [
      "命\n",
      "合\n",
      "备\n",
      "分\n",
      "市\n",
      "布\n",
      "都\n",
      "部\n"
     ]
    },
    {
     "data": {
      "image/png": "[encoded data removed]",
      "text/plain": [
       "<Figure size 432x288 with 1 Axes>"
      ]
     },
     "metadata": {
      "needs_background": "light"
     },
     "output_type": "display_data"
    }
   ],
   "source": [
    "# test_model.compile(loss='categorical_crossentropy',\n",
    "#         optimizer='SGD',\n",
    "#         metrics=['accuracy'])\n",
    "\n",
    "# test_loss, test_acc = test_model.evaluate_generator(vg, verbose=1)\n",
    "sample = vg[79][0][0].reshape(1, 96, 96, 1)\n",
    "result = test_model.predict(sample, batch_size=1).reshape(classSize)\n",
    "index = result.argsort()[-8:][::-1]\n",
    "plt.imshow(sample.reshape(96,96), cmap='gray')\n",
    "for i in index:\n",
    "    print(index_key_500[i])"
   ]
  },
  {
   "cell_type": "code",
   "execution_count": 30,
   "metadata": {},
   "outputs": [
    {
     "data": {
      "text/plain": [
       "<matplotlib.image.AxesImage at 0x13e5a5080>"
      ]
     },
     "execution_count": 30,
     "metadata": {},
     "output_type": "execute_result"
    },
    {
     "data": {
      "image/png": "[encoded data removed]",
      "text/plain": [
       "<Figure size 432x288 with 1 Axes>"
      ]
     },
     "metadata": {
      "needs_background": "light"
     },
     "output_type": "display_data"
    }
   ],
   "source": [
    "from scipy.ndimage import binary_dilation\n",
    "temp = vg[85][0][0]\n",
    "# temp = (temp - temp.min())/ np.ptp(temp)\n",
    "# print(temp.min())\n",
    "# plt.imshow(temp.reshape(96,96), cmap='gray')\n",
    "plt.imshow(temp.reshape(96,96), cmap='gray')"
   ]
  },
  {
   "cell_type": "code",
   "execution_count": 9,
   "metadata": {},
   "outputs": [
    {
     "data": {
      "text/plain": [
       "0.00010000000000000002"
      ]
     },
     "execution_count": 9,
     "metadata": {},
     "output_type": "execute_result"
    }
   ],
   "source": [
    "k=4\n",
    "b = 0.1**k\n",
    "b"
   ]
  },
  {
   "cell_type": "code",
   "execution_count": 32,
   "metadata": {},
   "outputs": [],
   "source": [
    "freq500Words = np.load('./data/MostFreq500inHWDB1.1.npy')"
   ]
  },
  {
   "cell_type": "code",
   "execution_count": 38,
   "metadata": {},
   "outputs": [],
   "source": [
    "index_key_500 = {}\n",
    "for key, value in charDict.items():\n",
    "    if freq500Words[value] == 1:\n",
    "        newLabel = np.int(freq500Words[:value+1].sum() - 1)\n",
    "        index_key_500[newLabel] = key\n",
    "with open('./data/index_key_500.pickle', 'wb') as handler:\n",
    "        pkl.dump(index_key_500, handler, protocol=pkl.HIGHEST_PROTOCOL)"
   ]
  },
  {
   "cell_type": "code",
   "execution_count": null,
   "metadata": {},
   "outputs": [],
   "source": []
  }
 ],
 "metadata": {
  "kernelspec": {
   "display_name": "py36",
   "language": "python",
   "name": "py36"
  },
  "language_info": {
   "codemirror_mode": {
    "name": "ipython",
    "version": 3
   },
   "file_extension": ".py",
   "mimetype": "text/x-python",
   "name": "python",
   "nbconvert_exporter": "python",
   "pygments_lexer": "ipython3",
   "version": "3.6.6"
  }
 },
 "nbformat": 4,
 "nbformat_minor": 2
}
